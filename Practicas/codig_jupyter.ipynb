{
 "cells": [
  {
   "cell_type": "code",
   "execution_count": 2,
   "metadata": {},
   "outputs": [
    {
     "ename": "OperationalError",
     "evalue": "no such table: ejemplo",
     "output_type": "error",
     "traceback": [
      "\u001b[0;31m---------------------------------------------------------------------------\u001b[0m",
      "\u001b[0;31mOperationalError\u001b[0m                          Traceback (most recent call last)",
      "\u001b[1;32m/home/marco/python/Practicas/codig_jupyter.ipynb Cell 1'\u001b[0m in \u001b[0;36m<cell line: 12>\u001b[0;34m()\u001b[0m\n\u001b[1;32m      <a href='vscode-notebook-cell:/home/marco/python/Practicas/codig_jupyter.ipynb#ch0000000?line=4'>5</a>\u001b[0m cursor \u001b[39m=\u001b[39m conexion\u001b[39m.\u001b[39mcursor()\n\u001b[1;32m      <a href='vscode-notebook-cell:/home/marco/python/Practicas/codig_jupyter.ipynb#ch0000000?line=6'>7</a>\u001b[0m usuarios \u001b[39m=\u001b[39m [\n\u001b[1;32m      <a href='vscode-notebook-cell:/home/marco/python/Practicas/codig_jupyter.ipynb#ch0000000?line=7'>8</a>\u001b[0m     (\u001b[39m'\u001b[39m\u001b[39mnefftep79@gmail.com\u001b[39m\u001b[39m'\u001b[39m, \u001b[39m'\u001b[39m\u001b[39mSoftware\u001b[39m\u001b[39m'\u001b[39m, \u001b[39m'\u001b[39m\u001b[39mMarco\u001b[39m\u001b[39m'\u001b[39m, \u001b[39m24\u001b[39m),\n\u001b[1;32m      <a href='vscode-notebook-cell:/home/marco/python/Practicas/codig_jupyter.ipynb#ch0000000?line=8'>9</a>\u001b[0m     (\u001b[39m'\u001b[39m\u001b[39mMariamvelasquez27@gmail.com\u001b[39m\u001b[39m'\u001b[39m, \u001b[39m'\u001b[39m\u001b[39mDiseño\u001b[39m\u001b[39m'\u001b[39m, \u001b[39m'\u001b[39m\u001b[39mMariam\u001b[39m\u001b[39m'\u001b[39m, \u001b[39m22\u001b[39m)\n\u001b[1;32m     <a href='vscode-notebook-cell:/home/marco/python/Practicas/codig_jupyter.ipynb#ch0000000?line=9'>10</a>\u001b[0m ]\n\u001b[0;32m---> <a href='vscode-notebook-cell:/home/marco/python/Practicas/codig_jupyter.ipynb#ch0000000?line=11'>12</a>\u001b[0m cursor\u001b[39m.\u001b[39;49mexecutemany(\u001b[39m\"\u001b[39;49m\u001b[39mINSERT INTO ejemplo VALUES (?,?)\u001b[39;49m\u001b[39m\"\u001b[39;49m, usuarios)\n\u001b[1;32m     <a href='vscode-notebook-cell:/home/marco/python/Practicas/codig_jupyter.ipynb#ch0000000?line=12'>13</a>\u001b[0m conexion\u001b[39m.\u001b[39mcommit()\n\u001b[1;32m     <a href='vscode-notebook-cell:/home/marco/python/Practicas/codig_jupyter.ipynb#ch0000000?line=14'>15</a>\u001b[0m cursor\u001b[39m.\u001b[39mexecute(\u001b[39m'\u001b[39m\u001b[39mSELECT * FROM estudiantes\u001b[39m\u001b[39m'\u001b[39m)\n",
      "\u001b[0;31mOperationalError\u001b[0m: no such table: ejemplo"
     ]
    }
   ],
   "source": [
    "import sqlite3\n",
    "\n",
    "conexion = sqlite3.connect('ejemplo.db')\n",
    "\n",
    "cursor = conexion.cursor()\n",
    "\n",
    "usuarios = [\n",
    "    ('nefftep79@gmail.com', 'Software', 'Marco', 24),\n",
    "    ('Mariamvelasquez27@gmail.com', 'Diseño', 'Mariam', 22)\n",
    "]\n",
    "\n",
    "cursor.executemany(\"INSERT INTO estudiantes VALUES (?,?)\", usuarios)\n",
    "conexion.commit()\n",
    "\n",
    "cursor.execute('SELECT * FROM estudiantes')\n",
    "usuarios = cursor.fetchall()\n",
    "\n",
    "for u in usuarios:\n",
    "    print(u)\n",
    "conexion.close()"
   ]
  }
 ],
 "metadata": {
  "kernelspec": {
   "display_name": "Python 3.10.4 64-bit",
   "language": "python",
   "name": "python3"
  },
  "language_info": {
   "codemirror_mode": {
    "name": "ipython",
    "version": 3
   },
   "file_extension": ".py",
   "mimetype": "text/x-python",
   "name": "python",
   "nbconvert_exporter": "python",
   "pygments_lexer": "ipython3",
   "version": "3.10.4"
  },
  "orig_nbformat": 4,
  "vscode": {
   "interpreter": {
    "hash": "916dbcbb3f70747c44a77c7bcd40155683ae19c65e1c03b4aa3499c5328201f1"
   }
  }
 },
 "nbformat": 4,
 "nbformat_minor": 2
}
